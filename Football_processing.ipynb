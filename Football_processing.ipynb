{
 "cells": [
  {
   "cell_type": "code",
   "execution_count": 15,
   "metadata": {},
   "outputs": [],
   "source": [
    "import requests as re\n",
    "import pandas as pd\n",
    "import numpy as np\n",
    "import json"
   ]
  },
  {
   "cell_type": "code",
   "execution_count": 123,
   "metadata": {},
   "outputs": [],
   "source": [
    "class Football_Collect:\n",
    "    \n",
    "    def _init_(self):\n",
    "        \n",
    "        self.url = None\n",
    "        self.page = None\n",
    "        self.response = None\n",
    "        self.data = None\n",
    "        \n",
    "    \n",
    "    def collect(self,url,page):\n",
    "        \n",
    "        self.url=url\n",
    "        self.page=page\n",
    "        headers = {\n",
    "            \"X-RapidAPI-Key\": \"36826b981cmsh3282263957fca3ap1481ccjsn9ff4fe7e7163\",\n",
    "            \"X-RapidAPI-Host\": \"api-football-v1.p.rapidapi.com\"\n",
    "                  }\n",
    "        response=[]\n",
    "        for i in range(1,page+1):\n",
    "            querystring = {\"team\":\"33\",\"season\":\"2021\",\"page\":i}\n",
    "            response.append(re.request(\"GET\", self.url, headers=headers, params=querystring))\n",
    "        return response\n",
    "    \n",
    "    def store(self,response):\n",
    "        \n",
    "        self.response=response\n",
    "        data=[]\n",
    "        for i in range(0,len(response)):\n",
    "            data.append(response[i].json())\n",
    "        return data    \n",
    "    \n",
    "    \n",
    "    def write(self,data):\n",
    "        \n",
    "        self.data=data\n",
    "        for i in range(0,len(data)):\n",
    "            json_object = json.dumps(data[i], indent = 4)\n",
    "            print(f'Accessed page {i+1}')\n",
    "            with open(f'page{i+1}.json', \"w\") as outfile:\n",
    "                outfile.write(json_object)"
   ]
  },
  {
   "cell_type": "code",
   "execution_count": 120,
   "metadata": {},
   "outputs": [],
   "source": [
    "p1=Football_Collect()"
   ]
  },
  {
   "cell_type": "code",
   "execution_count": 114,
   "metadata": {},
   "outputs": [
    {
     "data": {
      "text/plain": [
       "[<Response [200]>, <Response [200]>, <Response [200]>]"
      ]
     },
     "execution_count": 114,
     "metadata": {},
     "output_type": "execute_result"
    }
   ],
   "source": [
    "d=p1.collect(\"https://api-football-v1.p.rapidapi.com/v3/players\",3)\n",
    "d"
   ]
  },
  {
   "cell_type": "code",
   "execution_count": 118,
   "metadata": {},
   "outputs": [],
   "source": [
    "d1=p1.store(d)\n"
   ]
  },
  {
   "cell_type": "code",
   "execution_count": 124,
   "metadata": {},
   "outputs": [],
   "source": [
    "p1.write(d1)"
   ]
  }
 ],
 "metadata": {
  "kernelspec": {
   "display_name": "Python 3",
   "language": "python",
   "name": "python3"
  },
  "language_info": {
   "codemirror_mode": {
    "name": "ipython",
    "version": 3
   },
   "file_extension": ".py",
   "mimetype": "text/x-python",
   "name": "python",
   "nbconvert_exporter": "python",
   "pygments_lexer": "ipython3",
   "version": "3.8.5"
  }
 },
 "nbformat": 4,
 "nbformat_minor": 4
}
